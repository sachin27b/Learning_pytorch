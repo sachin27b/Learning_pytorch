{
 "cells": [
  {
   "cell_type": "code",
   "execution_count": 2,
   "metadata": {},
   "outputs": [],
   "source": [
    "import torch"
   ]
  },
  {
   "cell_type": "code",
   "execution_count": 27,
   "metadata": {},
   "outputs": [],
   "source": [
    "matrix = torch.tensor([[1, 2 ,3], [4, 5, 6], [7, 8 ,9]])"
   ]
  },
  {
   "cell_type": "code",
   "execution_count": 42,
   "metadata": {},
   "outputs": [
    {
     "data": {
      "text/plain": [
       "(torch.Size([3, 3]), torch.int64)"
      ]
     },
     "execution_count": 42,
     "metadata": {},
     "output_type": "execute_result"
    }
   ],
   "source": [
    "matrix.shape, matrix.dtype"
   ]
  },
  {
   "cell_type": "code",
   "execution_count": 29,
   "metadata": {},
   "outputs": [
    {
     "data": {
      "text/plain": [
       "2"
      ]
     },
     "execution_count": 29,
     "metadata": {},
     "output_type": "execute_result"
    }
   ],
   "source": [
    "matrix.ndim"
   ]
  },
  {
   "cell_type": "code",
   "execution_count": 30,
   "metadata": {},
   "outputs": [
    {
     "data": {
      "text/plain": [
       "tensor([7, 8, 9])"
      ]
     },
     "execution_count": 30,
     "metadata": {},
     "output_type": "execute_result"
    }
   ],
   "source": [
    "matrix[2]"
   ]
  },
  {
   "cell_type": "code",
   "execution_count": 31,
   "metadata": {},
   "outputs": [
    {
     "name": "stderr",
     "output_type": "stream",
     "text": [
      "C:\\Users\\sachi\\AppData\\Local\\Temp\\ipykernel_6932\\3597147264.py:1: UserWarning: torch.range is deprecated and will be removed in a future release because its behavior is inconsistent with Python's range builtin. Instead, use torch.arange, which produces values in [start, end).\n",
      "  a = torch.range(start = 1, end = 10, step = 1)\n"
     ]
    },
    {
     "data": {
      "text/plain": [
       "tensor([ 1.,  2.,  3.,  4.,  5.,  6.,  7.,  8.,  9., 10.])"
      ]
     },
     "execution_count": 31,
     "metadata": {},
     "output_type": "execute_result"
    }
   ],
   "source": [
    "a = torch.range(start = 1, end = 10, step = 1)\n",
    "a"
   ]
  },
  {
   "cell_type": "code",
   "execution_count": 32,
   "metadata": {},
   "outputs": [
    {
     "data": {
      "text/plain": [
       "tensor([1., 1., 1., 1., 1., 1., 1., 1., 1., 1.])"
      ]
     },
     "execution_count": 32,
     "metadata": {},
     "output_type": "execute_result"
    }
   ],
   "source": [
    "b = torch.ones_like(a)\n",
    "b"
   ]
  },
  {
   "cell_type": "code",
   "execution_count": 41,
   "metadata": {},
   "outputs": [
    {
     "data": {
      "text/plain": [
       "(device(type='cpu'), torch.int64, torch.Size([3]))"
      ]
     },
     "execution_count": 41,
     "metadata": {},
     "output_type": "execute_result"
    }
   ],
   "source": [
    "some_tensor = torch.tensor([1,2,3])\n",
    "some_tensor.device, some_tensor.dtype, some_tensor.shape"
   ]
  },
  {
   "cell_type": "code",
   "execution_count": 46,
   "metadata": {},
   "outputs": [
    {
     "data": {
      "text/plain": [
       "(tensor(3), tensor(2))"
      ]
     },
     "execution_count": 46,
     "metadata": {},
     "output_type": "execute_result"
    }
   ],
   "source": [
    "torch.max(some_tensor), torch.argmax(some_tensor)"
   ]
  },
  {
   "cell_type": "code",
   "execution_count": 8,
   "metadata": {},
   "outputs": [
    {
     "data": {
      "text/plain": [
       "(tensor([[0.5801, 0.6944, 0.4637, 0.3552, 0.5904, 0.3132, 0.8770, 0.4225, 0.5876],\n",
       "         [0.5613, 0.6326, 0.7061, 0.6815, 0.5500, 0.9147, 0.9507, 0.7185, 0.1160],\n",
       "         [0.6201, 0.2842, 0.7041, 0.5274, 0.2634, 0.1613, 0.2518, 0.6885, 0.6893],\n",
       "         [0.7017, 0.4420, 0.2780, 0.9372, 0.1785, 0.7181, 0.5127, 0.9696, 0.6399],\n",
       "         [0.3216, 0.0515, 0.2771, 0.7418, 0.5216, 0.1465, 0.1842, 0.9592, 0.5541],\n",
       "         [0.9518, 0.5152, 0.2274, 0.1221, 0.0076, 0.8427, 0.7475, 0.2686, 0.3691]]),\n",
       " tensor([[0.6617, 0.6512, 0.6921, 0.6976, 0.2181, 0.2752, 0.2186, 0.3108, 0.1614],\n",
       "         [0.9144, 0.6216, 0.8829, 0.9024, 0.6516, 0.2778, 0.0622, 0.4343, 0.8238],\n",
       "         [0.2796, 0.0557, 0.0872, 0.2755, 0.2021, 0.1704, 0.8159, 0.6825, 0.3963],\n",
       "         [0.7429, 0.4271, 0.1854, 0.5407, 0.5301, 0.5683, 0.7403, 0.3601, 0.0152],\n",
       "         [0.0926, 0.8811, 0.2085, 0.4563, 0.4155, 0.2379, 0.9651, 0.8811, 0.0926],\n",
       "         [0.9383, 0.3960, 0.9890, 0.5401, 0.6498, 0.4510, 0.2265, 0.2537, 0.0629]]))"
      ]
     },
     "execution_count": 8,
     "metadata": {},
     "output_type": "execute_result"
    }
   ],
   "source": [
    "a1 = torch.rand(size=(6, 9))\n",
    "a2 = torch.rand(size=(6, 9))\n",
    "\n",
    "a1, a2"
   ]
  },
  {
   "cell_type": "code",
   "execution_count": 14,
   "metadata": {},
   "outputs": [
    {
     "data": {
      "text/plain": [
       "(torch.Size([12, 9]), torch.Size([6, 18]))"
      ]
     },
     "execution_count": 14,
     "metadata": {},
     "output_type": "execute_result"
    }
   ],
   "source": [
    "torch.vstack([a1, a2]).shape, torch.hstack([a1, a2]).shape"
   ]
  }
 ],
 "metadata": {
  "kernelspec": {
   "display_name": "l-pytorch",
   "language": "python",
   "name": "python3"
  },
  "language_info": {
   "codemirror_mode": {
    "name": "ipython",
    "version": 3
   },
   "file_extension": ".py",
   "mimetype": "text/x-python",
   "name": "python",
   "nbconvert_exporter": "python",
   "pygments_lexer": "ipython3",
   "version": "3.10.11"
  }
 },
 "nbformat": 4,
 "nbformat_minor": 2
}
